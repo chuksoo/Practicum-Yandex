{
 "cells": [
  {
   "cell_type": "markdown",
   "metadata": {},
   "source": [
    "# Experiments with Decision Trees"
   ]
  },
  {
   "cell_type": "markdown",
   "metadata": {},
   "source": [
    "**Task**\n",
    "\n",
    "Try various settings for decision tree training. You'll need to achieve an accuracy score of at least 0.86 on the test set.\n",
    "\n",
    "Spoiler alert: You can do better if you dare to!\n",
    "\n",
    "Write the code in Practicum's JupyterHub as was explained in the previous lesson. The path to the data file is /datasets/train_data_us.csv. Or you can download the dataset and try to train the model locally on your machine (not recommended). Then upload the trained model here and test it."
   ]
  },
  {
   "cell_type": "code",
   "execution_count": 4,
   "metadata": {},
   "outputs": [
    {
     "name": "stdout",
     "output_type": "stream",
     "text": [
      "Data has been read correctly!\n"
     ]
    },
    {
     "data": {
      "text/plain": [
       "['model.joblib']"
      ]
     },
     "execution_count": 4,
     "metadata": {},
     "output_type": "execute_result"
    }
   ],
   "source": [
    "import pandas as pd\n",
    "import sklearn\n",
    "import joblib\n",
    "\n",
    "# import decision tree from the sklearn library\n",
    "from sklearn.tree import DecisionTreeClassifier\n",
    "\n",
    "# import from the library\n",
    "from joblib import dump\n",
    "\n",
    "# train model (like before)\n",
    "try:\n",
    "    df = pd.read_csv('https://code.s3.yandex.net/datasets/train_data_us.csv')\n",
    "except:\n",
    "    df = pd.read_csv('C:/Users/hotty/Desktop/Practicum by Yandex/5. Introduction to Machine Learning/train_data_us.csv')\n",
    "print('Data has been read correctly!')\n",
    "\n",
    "df.loc[df['last_price'] > 113000, 'price_class'] = 1\n",
    "df.loc[df['last_price'] <= 113000, 'price_class'] = 0\n",
    "\n",
    "# store features in seperate variables\n",
    "features = df.drop(['last_price', 'price_class'], axis=1)\n",
    "target = df['price_class']\n",
    "\n",
    "# create an empty model and assign it to a variable\n",
    "# train a model by calling the fit() method\n",
    "model = DecisionTreeClassifier(random_state=12345, max_depth=5)\n",
    "model.fit(features, target)\n",
    "\n",
    "# save model \n",
    "# first argument is model \n",
    "# second argument is path to file \n",
    "joblib.dump(model, 'model.joblib')"
   ]
  },
  {
   "cell_type": "markdown",
   "metadata": {},
   "source": [
    "# Test Dataset"
   ]
  },
  {
   "cell_type": "code",
   "execution_count": 5,
   "metadata": {},
   "outputs": [
    {
     "name": "stdout",
     "output_type": "stream",
     "text": [
      "Accuracy: 0.8904320987654321\n"
     ]
    }
   ],
   "source": [
    "test_df = pd.read_csv('https://code.s3.yandex.net/datasets/test_data_us.csv')\n",
    "\n",
    "test_df.loc[test_df['last_price'] > 113000, 'price_class'] = 1\n",
    "test_df.loc[test_df['last_price'] <= 113000, 'price_class'] = 0\n",
    "\n",
    "test_features = test_df.drop(['last_price', 'price_class'], axis=1)\n",
    "test_target = test_df['price_class']\n",
    "test_predictions = model.predict(test_features)\n",
    "\n",
    "def error_count(answers, predictions):\n",
    "    count = 0\n",
    "    for i in range(len(answers)):\n",
    "        if answers[i] != predictions[i]:\n",
    "            count += 1\n",
    "    return count\n",
    "\n",
    "# determine accuracy\n",
    "def accuracy(answers, predictions):\n",
    "    correct = 0\n",
    "    for i in range(len(answers)):\n",
    "        if answers[i] == predictions[i]:\n",
    "            correct += 1\n",
    "    return correct / len(answers)\n",
    "\n",
    "print('Accuracy:', accuracy(test_target, test_predictions))"
   ]
  },
  {
   "cell_type": "markdown",
   "metadata": {},
   "source": [
    "You can open and run the model using the `load` function. The review code in the training platform will do it for you."
   ]
  },
  {
   "cell_type": "code",
   "execution_count": 6,
   "metadata": {},
   "outputs": [],
   "source": [
    "#import joblib\n",
    "\n",
    "# the argument is a path to the file \n",
    "# the return value is the model \n",
    "model = joblib.load('model.joblib')\n",
    "\n",
    "# ...\n",
    "# testing the model\n",
    "# ..."
   ]
  },
  {
   "cell_type": "code",
   "execution_count": null,
   "metadata": {},
   "outputs": [],
   "source": []
  }
 ],
 "metadata": {
  "kernelspec": {
   "display_name": "Python 3",
   "language": "python",
   "name": "python3"
  },
  "language_info": {
   "codemirror_mode": {
    "name": "ipython",
    "version": 3
   },
   "file_extension": ".py",
   "mimetype": "text/x-python",
   "name": "python",
   "nbconvert_exporter": "python",
   "pygments_lexer": "ipython3",
   "version": "3.8.5"
  }
 },
 "nbformat": 4,
 "nbformat_minor": 4
}

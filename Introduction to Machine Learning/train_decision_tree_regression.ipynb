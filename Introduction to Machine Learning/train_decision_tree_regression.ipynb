{
 "cells": [
  {
   "cell_type": "code",
   "execution_count": 1,
   "metadata": {},
   "outputs": [],
   "source": [
    "import pandas as pd\n",
    "import math as mt\n",
    "\n",
    "# import joblib\n",
    "import joblib\n",
    "\n",
    "# import from the library \n",
    "from joblib import dump\n",
    "\n",
    "# import DecisionTreeRegressor from the sklearn library\n",
    "from sklearn.tree import DecisionTreeRegressor\n",
    "\n",
    "# import train_test_split to split data\n",
    "from sklearn.model_selection import train_test_split\n",
    "\n",
    "# read data\n",
    "try:\n",
    "    df = pd.read_csv('https://code.s3.yandex.net/datasets/train_data_us.csv')\n",
    "except:\n",
    "    df = pd.read_csv('C:/Users/hotty/Desktop/Practicum by Yandex/5. Introduction to Machine Learning/train_data_us.csv')\n",
    "#print('Data has been read correctly!')\n",
    "\n",
    "features = df.drop(['last_price'], axis=1)\n",
    "target = df['last_price'] / 100000\n",
    "\n",
    "# split data into training and validation \n",
    "df_train, df_valid = train_test_split(df, test_size=0.25, random_state=12345)\n",
    "\n",
    "# declare variables for features and target feature \n",
    "features_train = df_train.drop(['last_price'], axis=1)\n",
    "target_train = df_train['last_price'] / 100000\n",
    "features_valid = df_valid.drop(['last_price'], axis=1)\n",
    "target_valid = df_valid['last_price'] / 100000"
   ]
  },
  {
   "cell_type": "code",
   "execution_count": 2,
   "metadata": {},
   "outputs": [],
   "source": [
    "# training the decision tree regressor model on training set\n",
    "model = DecisionTreeRegressor() # create a regressor object (or model)\n",
    "model.fit(features_train, target_train) # fit the model with  train data\n",
    "\n",
    "# check the model's accuracy with score() method\n",
    "model.score(features_train, target_train)\n",
    "\n",
    "# predictions using validation set\n",
    "train_predictions = model.predict(features_train)\n",
    "predictions_valid = model.predict(features_valid)"
   ]
  },
  {
   "cell_type": "code",
   "execution_count": 3,
   "metadata": {},
   "outputs": [
    {
     "data": {
      "text/plain": [
       "['model.joblib']"
      ]
     },
     "execution_count": 3,
     "metadata": {},
     "output_type": "execute_result"
    }
   ],
   "source": [
    "# save model\n",
    "# first argument is model\n",
    "# second argument is path to file\n",
    "joblib.dump(model, 'model.joblib')"
   ]
  },
  {
   "cell_type": "code",
   "execution_count": 4,
   "metadata": {},
   "outputs": [],
   "source": [
    "# the argument is a path to the file \n",
    "# the return value is the model \n",
    "model = joblib.load('model.joblib')\n",
    "\n",
    "# ...\n",
    "# testing the model\n",
    "# ..."
   ]
  },
  {
   "cell_type": "code",
   "execution_count": null,
   "metadata": {},
   "outputs": [],
   "source": []
  }
 ],
 "metadata": {
  "kernelspec": {
   "display_name": "Python 3",
   "language": "python",
   "name": "python3"
  },
  "language_info": {
   "codemirror_mode": {
    "name": "ipython",
    "version": 3
   },
   "file_extension": ".py",
   "mimetype": "text/x-python",
   "name": "python",
   "nbconvert_exporter": "python",
   "pygments_lexer": "ipython3",
   "version": "3.8.5"
  }
 },
 "nbformat": 4,
 "nbformat_minor": 4
}

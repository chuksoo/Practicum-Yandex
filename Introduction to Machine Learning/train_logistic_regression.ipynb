{
 "cells": [
  {
   "cell_type": "code",
   "execution_count": 1,
   "metadata": {},
   "outputs": [],
   "source": [
    "import pandas as pd\n",
    "import sklearn \n",
    "\n",
    "# import joblib\n",
    "import joblib\n",
    "\n",
    "# import logistic regression from the sklearn library\n",
    "from sklearn.linear_model import LogisticRegression\n",
    "\n",
    "# import accuracy calculation function from sklearn \n",
    "from sklearn.metrics import accuracy_score\n",
    "\n",
    "# import train_test_split to split data\n",
    "from sklearn.model_selection import train_test_split\n",
    "\n",
    "# import from the library \n",
    "from joblib import dump\n",
    "\n",
    "# read data\n",
    "try:\n",
    "    df = pd.read_csv('https://code.s3.yandex.net/datasets/train_data_us.csv')\n",
    "except:\n",
    "    df = pd.read_csv('C:/Users/hotty/Desktop/Practicum by Yandex/5. Introduction to Machine Learning/train_data_us.csv')\n",
    "#print('Data has been read correctly!')\n",
    "\n",
    "df.loc[df['last_price'] > 113000, 'price_class'] = 1\n",
    "df.loc[df['last_price'] <= 113000, 'price_class'] = 0\n",
    "\n",
    "# split data into training and validation \n",
    "df_train, df_valid = train_test_split(df, test_size=0.25, random_state=12345)\n",
    "\n",
    "# declare variables for features and target feature\n",
    "features_train = df_train.drop(['last_price', 'price_class'], axis=1)\n",
    "target_train = df_train['price_class']\n",
    "features_valid = df_valid.drop(['last_price', 'price_class'], axis=1)\n",
    "target_valid = df_valid['price_class']"
   ]
  },
  {
   "cell_type": "code",
   "execution_count": 2,
   "metadata": {},
   "outputs": [
    {
     "name": "stdout",
     "output_type": "stream",
     "text": [
      "0.8823891625615764\n"
     ]
    }
   ],
   "source": [
    "# create the logistic regression model\n",
    "model = LogisticRegression(random_state=12345, solver='liblinear')\n",
    "\n",
    "# train the model by calling the fit() method\n",
    "model.fit(features_train, target_train)\n",
    "\n",
    "# check the model's accuracy with score() method\n",
    "model.score(features_train, target_train)\n",
    "\n",
    "# predictions using validation set\n",
    "train_predictions = model.predict(features_train)\n",
    "predictions_valid = model.predict(features_valid) \n",
    "\n",
    "print(accuracy_score(target_valid, predictions_valid))"
   ]
  },
  {
   "cell_type": "code",
   "execution_count": 3,
   "metadata": {},
   "outputs": [
    {
     "data": {
      "text/plain": [
       "['model.joblib']"
      ]
     },
     "execution_count": 3,
     "metadata": {},
     "output_type": "execute_result"
    }
   ],
   "source": [
    "# save model\n",
    "# first argument is model\n",
    "# second argument is path to file\n",
    "joblib.dump(model, 'model.joblib')"
   ]
  },
  {
   "cell_type": "code",
   "execution_count": 4,
   "metadata": {},
   "outputs": [],
   "source": [
    "\n",
    "\n",
    "# the argument is a path to the file \n",
    "# the return value is the model \n",
    "model = joblib.load('model.joblib')\n",
    "\n",
    "# ...\n",
    "# testing the model\n",
    "# ..."
   ]
  }
 ],
 "metadata": {
  "kernelspec": {
   "display_name": "Python 3",
   "language": "python",
   "name": "python3"
  },
  "language_info": {
   "codemirror_mode": {
    "name": "ipython",
    "version": 3
   },
   "file_extension": ".py",
   "mimetype": "text/x-python",
   "name": "python",
   "nbconvert_exporter": "python",
   "pygments_lexer": "ipython3",
   "version": "3.8.5"
  }
 },
 "nbformat": 4,
 "nbformat_minor": 4
}

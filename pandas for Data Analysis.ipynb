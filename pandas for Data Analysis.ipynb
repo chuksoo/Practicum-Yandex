{
 "cells": [
  {
   "cell_type": "markdown",
   "metadata": {},
   "source": [
    "## pandas for Data Analysis"
   ]
  },
  {
   "cell_type": "markdown",
   "metadata": {},
   "source": [
    "### 3. pandas"
   ]
  },
  {
   "cell_type": "markdown",
   "metadata": {},
   "source": [
    "##### Task 1.\n",
    "Access pandas using the alias `pd`."
   ]
  },
  {
   "cell_type": "code",
   "execution_count": 6,
   "metadata": {},
   "outputs": [],
   "source": [
    "import pandas as pd"
   ]
  },
  {
   "cell_type": "code",
   "execution_count": null,
   "metadata": {},
   "outputs": [],
   "source": []
  },
  {
   "cell_type": "markdown",
   "metadata": {},
   "source": [
    "##### Task 2.\n",
    "Create a list called `music` to store five rows of your future table. Each row should contain two strings, or pieces of data: a name of an artist followed by the name of one of their songs that you really like. Don't worry, we won't judge your taste in music.\n",
    "The syntax for `music` is similar to the one for `atlas` in the summary. All you need to do is rename the variable (`atlas` → `music`) and put the names of the artists and their songs in place of countries and capitals.\n",
    "You don't have to print anything. If you need help, there's an example of the code in the hint."
   ]
  },
  {
   "cell_type": "code",
   "execution_count": 7,
   "metadata": {},
   "outputs": [],
   "source": [
    "music = [\n",
    "        ['Rich Gang', 'Lifestyle'],\n",
    "        ['O.T.Genesis', 'CoCo'],\n",
    "        ['Cordae', 'Have Mercy'],\n",
    "        ['Ace Hood', 'Hustle Hard'],\n",
    "        ['Erica Banks', 'Buss It']\n",
    "]"
   ]
  },
  {
   "cell_type": "code",
   "execution_count": null,
   "metadata": {},
   "outputs": [],
   "source": []
  },
  {
   "cell_type": "markdown",
   "metadata": {},
   "source": [
    "##### Task 3.\n",
    "Now create a list called `entries` with column names of your table. You already have your rows and you see there are two sets of data in each row — that means there are going to be two columns.\n",
    "The first column should be called `artist`, and the second `track`. Use the syntax of `geography` variable from the lesson, but this time save your column names in the variable `entries`."
   ]
  },
  {
   "cell_type": "code",
   "execution_count": 8,
   "metadata": {},
   "outputs": [],
   "source": [
    "entries = ['artist', 'track']"
   ]
  },
  {
   "cell_type": "code",
   "execution_count": null,
   "metadata": {},
   "outputs": [],
   "source": []
  },
  {
   "cell_type": "markdown",
   "metadata": {},
   "source": [
    "##### Task 4.\n",
    "Use `DataFrame()` to create a table with your favorite artists and songs. The `music` list should become the rows, and `entries` will be the column names. Save your DataFrame in the variable `playlist`. Print it."
   ]
  },
  {
   "cell_type": "code",
   "execution_count": 12,
   "metadata": {},
   "outputs": [
    {
     "name": "stdout",
     "output_type": "stream",
     "text": [
      "        artist        track\n",
      "0    Rich Gang    Lifestyle\n",
      "1  O.T.Genesis         CoCo\n",
      "2       Cordae   Have Mercy\n",
      "3     Ace Hood  Hustle Hard\n",
      "4  Erica Banks      Buss It\n"
     ]
    }
   ],
   "source": [
    "playlist = pd.DataFrame(data = music, columns = entries)\n",
    "\n",
    "print(playlist)"
   ]
  },
  {
   "cell_type": "code",
   "execution_count": null,
   "metadata": {},
   "outputs": [],
   "source": []
  },
  {
   "cell_type": "markdown",
   "metadata": {},
   "source": [
    "### 4. Data Retrieval"
   ]
  },
  {
   "cell_type": "markdown",
   "metadata": {},
   "source": [
    "##### Task 1.\n",
    "Read the file `music_log.csv` and save it to the `df` variable. Save the first five rows of data from `music_log.csv` to the variable `music_head` and print the variable."
   ]
  },
  {
   "cell_type": "code",
   "execution_count": null,
   "metadata": {},
   "outputs": [],
   "source": [
    "import pandas as pd\n",
    "\n",
    "df = pd.read_csv('music_log.csv')\n",
    "\n",
    "music_head = df.head()\n",
    "\n",
    "print(music_head)"
   ]
  },
  {
   "cell_type": "code",
   "execution_count": null,
   "metadata": {},
   "outputs": [],
   "source": []
  },
  {
   "cell_type": "markdown",
   "metadata": {},
   "source": [
    "##### Task 2.\n",
    "Read the file `music_log.csv` and save it to the `df` variable. Save the last 10 rows of data from `music_log.csv` to the variable `music_tail` and print the variable."
   ]
  },
  {
   "cell_type": "code",
   "execution_count": null,
   "metadata": {},
   "outputs": [],
   "source": [
    "import pandas as pd\n",
    "df = pd.read_csv('music_log.csv')\n",
    "music_tail = df.tail(10)\n",
    "print(music_tail)"
   ]
  },
  {
   "cell_type": "code",
   "execution_count": null,
   "metadata": {},
   "outputs": [],
   "source": []
  }
 ],
 "metadata": {
  "kernelspec": {
   "display_name": "Python 3",
   "language": "python",
   "name": "python3"
  },
  "language_info": {
   "codemirror_mode": {
    "name": "ipython",
    "version": 3
   },
   "file_extension": ".py",
   "mimetype": "text/x-python",
   "name": "python",
   "nbconvert_exporter": "python",
   "pygments_lexer": "ipython3",
   "version": "3.8.5"
  }
 },
 "nbformat": 4,
 "nbformat_minor": 4
}

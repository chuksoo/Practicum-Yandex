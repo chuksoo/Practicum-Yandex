{
 "cells": [
  {
   "cell_type": "markdown",
   "metadata": {},
   "source": [
    "### 2. Simple Functions"
   ]
  },
  {
   "cell_type": "markdown",
   "metadata": {},
   "source": [
    "##### Task"
   ]
  },
  {
   "cell_type": "raw",
   "metadata": {},
   "source": [
    "In the table above, movie budgets are represented in USD. Write the function print_budget_in_euros() that will convert those dollar amounts into euros and print the results on the screen. Use the following conversion rate: $1 = €0.90. In the precode, we've defined this first (euros_per_dollar); even though the variable isn't declared within the function, the function can still use it.\n",
    "The function should accept the dollar amounts as an argument and print results in the following format:\n",
    "    \n",
    "Budget: 181.00 mil. € \n",
    "    \n",
    "Note: The result is printed precise to the second decimal place."
   ]
  },
  {
   "cell_type": "code",
   "execution_count": 17,
   "metadata": {},
   "outputs": [
    {
     "name": "stdout",
     "output_type": "stream",
     "text": [
      "Titanic\n",
      "Budget: 180.00 mil. €\n",
      "\n",
      "Gladiator\n",
      "Budget: 92.70 mil. €\n"
     ]
    }
   ],
   "source": [
    "# Saving the conversion rate\n",
    "\n",
    "euros_per_dollar = 0.90\n",
    "\n",
    "def print_budget_in_euros(dollars):\n",
    "    euros = dollars * euros_per_dollar\n",
    "    print('Budget: {:.2f} mil. €'.format(euros))\n",
    "\n",
    "print('Titanic') \n",
    "print_budget_in_euros(200.0) \n",
    "print() \n",
    "print('Gladiator') \n",
    "print_budget_in_euros(103.0)"
   ]
  },
  {
   "cell_type": "code",
   "execution_count": null,
   "metadata": {},
   "outputs": [],
   "source": []
  },
  {
   "cell_type": "markdown",
   "metadata": {},
   "source": [
    "### 3. Functions with Multiple Arguments"
   ]
  },
  {
   "cell_type": "markdown",
   "metadata": {},
   "source": [
    "##### Task 1"
   ]
  },
  {
   "cell_type": "markdown",
   "metadata": {},
   "source": [
    "Now the values within the columns by which our tables are sorted are in descending order. But what if we want a different order in some of the tables? For example, if we want to print a table of the shortest films, we will need to sort by the 'Length' column in ascending order.\n",
    "\n",
    "Let's enhance the `print_top5_by_column()` function by making it possible to change the sorting order. To do so, add another argument (you can call it `is_reverse_sorting`, `is_descending_sorting`, or any other descriptive name). The value of this argument will be passed directly to the `sort()` method inside the function as its `reverse` parameter, so True will give descending order and False will give ascending order.\n",
    "\n",
    "After you add the new argument, the function calls you wrote earlier will stop working. The problem is that the function now takes three arguments, but we're only passing it two. Fix these calls so that they have a third argument (True, since we still want to see large values on top). Then print the five shortest films from the table (the third argument will be False, so that the shortest films are on top)."
   ]
  },
  {
   "cell_type": "code",
   "execution_count": 2,
   "metadata": {},
   "outputs": [
    {
     "name": "stdout",
     "output_type": "stream",
     "text": [
      "# Highest rating\n",
      "\n",
      "Title                            | Year  | Rating | Length | Budget | Box office gross  |\n",
      "--------------------------------------------------------------------------------\n",
      "Forrest Gump                        | 1994 |    8.91 |   142 |   55.0 |  677.4 |\n",
      "Schindler's List                    | 1993 |    8.82 |   195 |   22.0 |  321.3 |\n",
      "The Lord of the Rings: Return of the King | 2003 |    8.62 |   201 |   94.0 | 1119.1 |\n",
      "Gladiator                           | 2000 |    8.59 |   155 |  103.0 |  457.6 |\n",
      "A Beautiful Mind                    | 2001 |    8.56 |   135 |   58.0 |  313.5 |\n",
      "\n",
      "\n",
      "# Largest budget\n",
      "\n",
      "Title                            | Year  | Rating | Length | Budget | Box office gross  |\n",
      "--------------------------------------------------------------------------------\n",
      "Titanic                             | 1997 |    8.37 |   194 |  200.0 | 2185.4 |\n",
      "Gladiator                           | 2000 |    8.59 |   155 |  103.0 |  457.6 |\n",
      "The Lord of the Rings: Return of the King | 2003 |    8.62 |   201 |   94.0 | 1119.1 |\n",
      "The Departed                        | 2006 |    8.46 |   151 |   90.0 |  289.8 |\n",
      "Braveheart                          | 1995 |    8.28 |   178 |   72.0 |  210.4 |\n",
      "\n",
      "\n",
      "# Highest box office gross\n",
      "\n",
      "Title                            | Year  | Rating | Length | Budget | Box office gross  |\n",
      "--------------------------------------------------------------------------------\n",
      "Titanic                             | 1997 |    8.37 |   194 |  200.0 | 2185.4 |\n",
      "The Lord of the Rings: Return of the King | 2003 |    8.62 |   201 |   94.0 | 1119.1 |\n",
      "Forrest Gump                        | 1994 |    8.91 |   142 |   55.0 |  677.4 |\n",
      "Gladiator                           | 2000 |    8.59 |   155 |  103.0 |  457.6 |\n",
      "Dances with Wolves                  | 1990 |    8.11 |   181 |   22.0 |  424.2 |\n",
      "\n",
      "\n",
      "# Maximum length\n",
      "\n",
      "Title                            | Year  | Rating | Length | Budget | Box office gross  |\n",
      "--------------------------------------------------------------------------------\n",
      "The Lord of the Rings: Return of the King | 2003 |    8.62 |   201 |   94.0 | 1119.1 |\n",
      "Schindler's List                    | 1993 |    8.82 |   195 |   22.0 |  321.3 |\n",
      "Titanic                             | 1997 |    8.37 |   194 |  200.0 | 2185.4 |\n",
      "Dances with Wolves                  | 1990 |    8.11 |   181 |   22.0 |  424.2 |\n",
      "Braveheart                          | 1995 |    8.28 |   178 |   72.0 |  210.4 |\n",
      "\n",
      "\n",
      "# Minimum length\n",
      "\n",
      "Title                            | Year  | Rating | Length | Budget | Box office gross  |\n",
      "--------------------------------------------------------------------------------\n",
      "The Artist                          | 2011 |    7.94 |    96 |   15.0 |  133.4 |\n",
      "Driving Miss Daisy                  | 1989 |    7.64 |    99 |    7.5 |  145.8 |\n",
      "Crash                               | 2004 |    7.90 |   108 |    6.5 |   98.4 |\n",
      "Moonlight                           | 2016 |    6.15 |   110 |    1.5 |   65.0 |\n",
      "Chicago                             | 2002 |    7.67 |   113 |   45.0 |  306.8 |\n",
      "\n",
      "\n"
     ]
    }
   ],
   "source": [
    "# columns are [0]title [1]year [2]rating [3]length(min) [4]genre [5]budget($mil) [6]box_office_gross($mil)\n",
    "oscar_data = [\n",
    "    [\"The Shape of Water\", 2017, 6.914, 123, ['sci-fi', 'drama'], 19.4, 195.243464],\n",
    "    [\"Moonlight\", 2016, 6.151, 110, ['drama'], 1.5, 65.046687],\n",
    "    [\"Spotlight\", 2015, 7.489, 129, ['drama', 'crime', 'history'], 20.0, 88.346473],\n",
    "    [\"Birdman\", 2014, 7.604, 119, ['drama', 'comedy'], 18.0, 103.215094],\n",
    "    [\"12 Years a Slave\", 2013, 7.71, 133, ['drama', 'biography', 'history'], 20.0, 178.371993],\n",
    "    [\"Argo\", 2012, 7.517, 120, ['thriller', 'drama', 'biography'], 44.5, 232.324128],\n",
    "    [\"The Artist\", 2011, 7.942, 96, ['drama', 'melodrama', 'comedy'], 15.0, 133.432856],\n",
    "    [\"The King\\'s Speech\", 2010, 7.977, 118, ['drama', 'biography', 'history'], 15.0, 414.211549],\n",
    "    [\"The Hurt Locker\", 2009, 7.298, 126, ['thriller', 'drama', 'war', 'history'], 15.0, 49.230772],\n",
    "    [\"Slumdog Millionaire\", 2008, 7.724, 120, ['drama', 'melodrama'], 15.0, 377.910544],\n",
    "    [\"No Country for Old Men\", 2007, 7.726, 122, ['thriller', 'drama', 'crime'], 25.0, 171.627166],\n",
    "    [\"The Departed\", 2006, 8.456, 151, ['thriller', 'drama', 'crime'], 90.0, 289.847354],\n",
    "    [\"Crash\", 2004, 7.896, 108, ['thriller', 'drama', 'crime'], 6.5, 98.410061],\n",
    "    [\"Million Dollar Baby\", 2004, 8.075, 132, ['drama', 'sport'], 30.0, 216.763646],\n",
    "    [\"The Lord of the Rings: Return of the King\", 2003, 8.617, 201, ['fantasy', 'drama', 'adventure'], 94.0, 1119.110941],\n",
    "    [\"Chicago\", 2002, 7.669, 113, ['musical', 'comedy', 'crime'], 45.0, 306.776732],\n",
    "    ['A Beautiful Mind', 2001, 8.557, 135, ['drama', 'biography', 'melodrama'], 58.0, 313.542341],\n",
    "    [\"Gladiator\", 2000, 8.585, 155, ['action', 'drama', 'adventure'], 103.0, 457.640427],\n",
    "    [\"American Beauty\", 1999, 7.965, 122, ['drama'], 15.0, 356.296601],\n",
    "    [\"Shakespeare in Love\", 1998, 7.452, 123, ['drama', 'melodrama', 'comedy', 'history'], 25.0, 289.317794],\n",
    "    [\"Titanic\", 1997, 8.369, 194, ['drama', 'melodrama'], 200.0, 2185.372302],\n",
    "    [\"The English Patient\", 1996, 7.849, 155, ['drama', 'melodrama', 'war'], 27.0, 231.976425],\n",
    "    [\"Braveheart\", 1995, 8.283, 178, ['drama', 'war', 'biography', 'history'], 72.0, 210.409945],\n",
    "    [\"Forrest Gump\", 1994, 8.915, 142, ['drama', 'melodrama'], 55.0, 677.386686],\n",
    "    [\"Schindler\\'s List\", 1993, 8.819, 195, ['drama', 'biography', 'history'], 22.0, 321.265768],\n",
    "    [\"Unforgiven\", 1992, 7.858, 131, ['drama', 'western'], 14.4, 159.157447],\n",
    "    [\"Silence of the Lambs\", 1990, 8.335, 114, ['thriller', 'crime', 'mystery', 'drama', 'horror'], 19.0, 272.742922],\n",
    "    [\"Dances with Wolves\", 1990, 8.112, 181, ['drama', 'adventure', 'western'], 22.0, 424.208848],\n",
    "    [\"Driving Miss Daisy\", 1989, 7.645, 99, ['drama'], 7.5, 145.793296],\n",
    "    [\"Rain Man\", 1988, 8.25, 133, ['drama'], 25.0, 354.825435],\n",
    "]\n",
    "\n",
    "# update the function code\n",
    "\n",
    "def print_top5_by_column(data, column, is_reverse_sorting):\n",
    "    data.sort(key=lambda row: row[column], reverse=is_reverse_sorting)\n",
    "    print('Title                            | Year  | Rating | Length | Budget | Box office gross  |')\n",
    "    print('--------------------------------------------------------------------------------')\n",
    "    for row in data[:5]:\n",
    "        print('{: <35} | {} | {: >7.2f} | {: >5} | {: >6.1f} | {: >6.1f} |'.format(\n",
    "            row[0], row[1], row[2], row[3], row[5], row[6]))\n",
    "        \n",
    "\n",
    "# update the code for outputting the top values\n",
    "\n",
    "print('# Highest rating')\n",
    "print()\n",
    "print_top5_by_column(oscar_data, 2, True)\n",
    "print()\n",
    "print()\n",
    "\n",
    "print('# Largest budget')\n",
    "print()\n",
    "print_top5_by_column(oscar_data, 5, True)\n",
    "print()\n",
    "print()\n",
    "\n",
    "print('# Highest box office gross')\n",
    "print()\n",
    "print_top5_by_column(oscar_data, 6, True)\n",
    "print()\n",
    "print()\n",
    "\n",
    "print('# Maximum length')\n",
    "print()\n",
    "print_top5_by_column(oscar_data, 3, True)\n",
    "print()\n",
    "print()\n",
    "\n",
    "# add the output for the shortest films\n",
    "print('# Minimum length')\n",
    "print()\n",
    "print_top5_by_column(oscar_data, 3, False)\n",
    "print()\n",
    "print()"
   ]
  },
  {
   "cell_type": "markdown",
   "metadata": {},
   "source": [
    "##### Task 2"
   ]
  },
  {
   "cell_type": "markdown",
   "metadata": {},
   "source": [
    "Write the function `print_mean()` that will calculate and print the mean value of a given column. The function must accept two arguments: `data` (table) and `column` (the index of the column). Print the results to the second decimal place without any accompanying text.\n",
    "\n",
    "After creating this function, you can then calculate the mean value for most of the columns. We've already done this in the precode. (Note the spaces between the colons and quotes in the precode; they're supposed to be there.)"
   ]
  },
  {
   "cell_type": "code",
   "execution_count": 11,
   "metadata": {},
   "outputs": [
    {
     "name": "stdout",
     "output_type": "stream",
     "text": [
      "Average rating: 7.93\n",
      "Average length: 135.93\n",
      "Average budget: 37.96\n",
      "Average box office gross: 347.99\n"
     ]
    }
   ],
   "source": [
    "# columns are [0]title [1]year [2]rating [3]length(min) [4]genre [5]budget($mil) [6]box_office_gross($mil)\n",
    "oscar_data = [\n",
    "    [\"The Shape of Water\", 2017, 6.914, 123, ['sci-fi', 'drama'], 19.4, 195.243464],\n",
    "    [\"Moonlight\", 2016, 6.151, 110, ['drama'], 1.5, 65.046687],\n",
    "    [\"Spotlight\", 2015, 7.489, 129, ['drama', 'crime', 'history'], 20.0, 88.346473],\n",
    "    [\"Birdman\", 2014, 7.604, 119, ['drama', 'comedy'], 18.0, 103.215094],\n",
    "    [\"12 Years a Slave\", 2013, 7.71, 133, ['drama', 'biography', 'history'], 20.0, 178.371993],\n",
    "    [\"Argo\", 2012, 7.517, 120, ['thriller', 'drama', 'biography'], 44.5, 232.324128],\n",
    "    [\"The Artist\", 2011, 7.942, 96, ['drama', 'melodrama', 'comedy'], 15.0, 133.432856],\n",
    "    [\"The King\\'s Speech\", 2010, 7.977, 118, ['drama', 'biography', 'history'], 15.0, 414.211549],\n",
    "    [\"The Hurt Locker\", 2009, 7.298, 126, ['thriller', 'drama', 'war', 'history'], 15.0, 49.230772],\n",
    "    [\"Slumdog Millionaire\", 2008, 7.724, 120, ['drama', 'melodrama'], 15.0, 377.910544],\n",
    "    [\"No Country for Old Men\", 2007, 7.726, 122, ['thriller', 'drama', 'crime'], 25.0, 171.627166],\n",
    "    [\"The Departed\", 2006, 8.456, 151, ['thriller', 'drama', 'crime'], 90.0, 289.847354],\n",
    "    [\"Crash\", 2004, 7.896, 108, ['thriller', 'drama', 'crime'], 6.5, 98.410061],\n",
    "    [\"Million Dollar Baby\", 2004, 8.075, 132, ['drama', 'sport'], 30.0, 216.763646],\n",
    "    [\"The Lord of the Rings: Return of the King\", 2003, 8.617, 201, ['fantasy', 'drama', 'adventure'], 94.0, 1119.110941],\n",
    "    [\"Chicago\", 2002, 7.669, 113, ['musical', 'comedy', 'crime'], 45.0, 306.776732],\n",
    "    ['A Beautiful Mind', 2001, 8.557, 135, ['drama', 'biography', 'melodrama'], 58.0, 313.542341],\n",
    "    [\"Gladiator\", 2000, 8.585, 155, ['action', 'drama', 'adventure'], 103.0, 457.640427],\n",
    "    [\"American Beauty\", 1999, 7.965, 122, ['drama'], 15.0, 356.296601],\n",
    "    [\"Shakespeare in Love\", 1998, 7.452, 123, ['drama', 'melodrama', 'comedy', 'history'], 25.0, 289.317794],\n",
    "    [\"Titanic\", 1997, 8.369, 194, ['drama', 'melodrama'], 200.0, 2185.372302],\n",
    "    [\"The English Patient\", 1996, 7.849, 155, ['drama', 'melodrama', 'war'], 27.0, 231.976425],\n",
    "    [\"Braveheart\", 1995, 8.283, 178, ['drama', 'war', 'biography', 'history'], 72.0, 210.409945],\n",
    "    [\"Forrest Gump\", 1994, 8.915, 142, ['drama', 'melodrama'], 55.0, 677.386686],\n",
    "    [\"Schindler\\'s List\", 1993, 8.819, 195, ['drama', 'biography', 'history'], 22.0, 321.265768],\n",
    "    [\"Unforgiven\", 1992, 7.858, 131, ['drama', 'western'], 14.4, 159.157447],\n",
    "    [\"Silence of the Lambs\", 1990, 8.335, 114, ['thriller', 'crime', 'mystery', 'drama', 'horror'], 19.0, 272.742922],\n",
    "    [\"Dances with Wolves\", 1990, 8.112, 181, ['drama', 'adventure', 'western'], 22.0, 424.208848],\n",
    "    [\"Driving Miss Daisy\", 1989, 7.645, 99, ['drama'], 7.5, 145.793296],\n",
    "    [\"Rain Man\", 1988, 8.25, 133, ['drama'], 25.0, 354.825435],\n",
    "]\n",
    "\n",
    "\n",
    "def print_mean(data, column):\n",
    "    total = 0\n",
    "    for i in range(len(data)):\n",
    "        total += data[i][column]\n",
    "    mean = total / len(data)\n",
    "    print('{:.2f}'.format(mean)) \n",
    "\n",
    "print('Average rating: ', end='')\n",
    "print_mean(oscar_data, 2)\n",
    "\n",
    "print('Average length: ', end='')\n",
    "print_mean(oscar_data, 3)\n",
    "\n",
    "print('Average budget: ', end='')\n",
    "print_mean(oscar_data, 5)\n",
    "\n",
    "print('Average box office gross: ', end='')\n",
    "print_mean(oscar_data, 6)\n"
   ]
  },
  {
   "cell_type": "markdown",
   "metadata": {},
   "source": [
    "### 4. Function Return Values"
   ]
  },
  {
   "cell_type": "markdown",
   "metadata": {},
   "source": [
    "##### Task 1"
   ]
  },
  {
   "cell_type": "markdown",
   "metadata": {},
   "source": [
    "Let’s try to calculate the total sums of the budgets and box office gross of the films in the table. Write the function `column_sum()` that accepts the table and column number and returns the sum value of that column. Use this function to print the result in the following format:\n",
    "\n",
    "`Total budget: $... mil.` \n",
    "\n",
    "`Total box office gross: $... mil. `\n",
    "\n",
    "Round the totals to the second decimal place. As a reminder: the budgets are saved in the column indexed 5 and the box office gross is in the column indexed 6."
   ]
  },
  {
   "cell_type": "code",
   "execution_count": 13,
   "metadata": {},
   "outputs": [
    {
     "name": "stdout",
     "output_type": "stream",
     "text": [
      "Total budget: $1138.80 mil.\n",
      "Total box office gross: $10439.81 mil.\n"
     ]
    }
   ],
   "source": [
    "# columns are [0]title [1]year [2]rating [3]length(min) [4]genre [5]budget($mil) [6]box_office_gross($mil)\n",
    "oscar_data = [\n",
    "    [\"The Shape of Water\", 2017, 6.914, 123, ['sci-fi', 'drama'], 19.4, 195.243464],\n",
    "    [\"Moonlight\", 2016, 6.151, 110, ['drama'], 1.5, 65.046687],\n",
    "    [\"Spotlight\", 2015, 7.489, 129, ['drama', 'crime', 'history'], 20.0, 88.346473],\n",
    "    [\"Birdman\", 2014, 7.604, 119, ['drama', 'comedy'], 18.0, 103.215094],\n",
    "    [\"12 Years a Slave\", 2013, 7.71, 133, ['drama', 'biography', 'history'], 20.0, 178.371993],\n",
    "    [\"Argo\", 2012, 7.517, 120, ['thriller', 'drama', 'biography'], 44.5, 232.324128],\n",
    "    [\"The Artist\", 2011, 7.942, 96, ['drama', 'melodrama', 'comedy'], 15.0, 133.432856],\n",
    "    [\"The King\\'s Speech\", 2010, 7.977, 118, ['drama', 'biography', 'history'], 15.0, 414.211549],\n",
    "    [\"The Hurt Locker\", 2009, 7.298, 126, ['thriller', 'drama', 'war', 'history'], 15.0, 49.230772],\n",
    "    [\"Slumdog Millionaire\", 2008, 7.724, 120, ['drama', 'melodrama'], 15.0, 377.910544],\n",
    "    [\"No Country for Old Men\", 2007, 7.726, 122, ['thriller', 'drama', 'crime'], 25.0, 171.627166],\n",
    "    [\"The Departed\", 2006, 8.456, 151, ['thriller', 'drama', 'crime'], 90.0, 289.847354],\n",
    "    [\"Crash\", 2004, 7.896, 108, ['thriller', 'drama', 'crime'], 6.5, 98.410061],\n",
    "    [\"Million Dollar Baby\", 2004, 8.075, 132, ['drama', 'sport'], 30.0, 216.763646],\n",
    "    [\"The Lord of the Rings: Return of the King\", 2003, 8.617, 201, ['fantasy', 'drama', 'adventure'], 94.0, 1119.110941],\n",
    "    [\"Chicago\", 2002, 7.669, 113, ['musical', 'comedy', 'crime'], 45.0, 306.776732],\n",
    "    ['A Beautiful Mind', 2001, 8.557, 135, ['drama', 'biography', 'melodrama'], 58.0, 313.542341],\n",
    "    [\"Gladiator\", 2000, 8.585, 155, ['action', 'drama', 'adventure'], 103.0, 457.640427],\n",
    "    [\"American Beauty\", 1999, 7.965, 122, ['drama'], 15.0, 356.296601],\n",
    "    [\"Shakespeare in Love\", 1998, 7.452, 123, ['drama', 'melodrama', 'comedy', 'history'], 25.0, 289.317794],\n",
    "    [\"Titanic\", 1997, 8.369, 194, ['drama', 'melodrama'], 200.0, 2185.372302],\n",
    "    [\"The English Patient\", 1996, 7.849, 155, ['drama', 'melodrama', 'war'], 27.0, 231.976425],\n",
    "    [\"Braveheart\", 1995, 8.283, 178, ['drama', 'war', 'biography', 'history'], 72.0, 210.409945],\n",
    "    [\"Forrest Gump\", 1994, 8.915, 142, ['drama', 'melodrama'], 55.0, 677.386686],\n",
    "    [\"Schindler\\'s List\", 1993, 8.819, 195, ['drama', 'biography', 'history'], 22.0, 321.265768],\n",
    "    [\"Unforgiven\", 1992, 7.858, 131, ['drama', 'western'], 14.4, 159.157447],\n",
    "    [\"Silence of the Lambs\", 1990, 8.335, 114, ['thriller', 'crime', 'mystery', 'drama', 'horror'], 19.0, 272.742922],\n",
    "    [\"Dances with Wolves\", 1990, 8.112, 181, ['drama', 'adventure', 'western'], 22.0, 424.208848],\n",
    "    [\"Driving Miss Daisy\", 1989, 7.645, 99, ['drama'], 7.5, 145.793296],\n",
    "    [\"Rain Man\", 1988, 8.25, 133, ['drama'], 25.0, 354.825435],\n",
    "]\n",
    "\n",
    "\n",
    "def column_sum(data, column):\n",
    "    result = 0\n",
    "    for i in range(len(data)):\n",
    "        result += data[i][column]\n",
    "    return result\n",
    "    \n",
    "total_budget = column_sum(oscar_data, 5)\n",
    "print('Total budget: ${:.2f} mil.'.format(total_budget))\n",
    "\n",
    "total_gross = column_sum(oscar_data, 6)\n",
    "print('Total box office gross: ${:.2f} mil.'.format(total_gross))\n"
   ]
  },
  {
   "cell_type": "code",
   "execution_count": null,
   "metadata": {},
   "outputs": [],
   "source": []
  },
  {
   "cell_type": "markdown",
   "metadata": {},
   "source": [
    "##### Task 2"
   ]
  },
  {
   "cell_type": "markdown",
   "metadata": {},
   "source": [
    "Let’s imagine that every single person watched every Oscar-winning film on the silver screen. In this case, how much would every ticket to every film have to cost, for the films to make at least as much as their current gross?\n",
    "In order to evaluate those ticket costs, we will need the sum of all the films’ grosses (column indexed 6) divided by the world’s total population. One source the [US Census Bureau](https://www.census.gov/) states that the world’s population in 2018 was at 7,539 million people. You can calculate the total box office gross using the function from the previous task. Divide one by the other and print the results on the screen in the following format:"
   ]
  },
  {
   "cell_type": "code",
   "execution_count": 14,
   "metadata": {},
   "outputs": [
    {
     "name": "stdout",
     "output_type": "stream",
     "text": [
      "Every person spent an average of $1.38 on Oscar-winning films.\n"
     ]
    }
   ],
   "source": [
    "# columns are [0]title [1]year [2]rating [3]length(min) [4]genre [5]budget($mil) [6]box_office_gross($mil)\n",
    "oscar_data = [\n",
    "    [\"The Shape of Water\", 2017, 6.914, 123, ['sci-fi', 'drama'], 19.4, 195.243464],\n",
    "    [\"Moonlight\", 2016, 6.151, 110, ['drama'], 1.5, 65.046687],\n",
    "    [\"Spotlight\", 2015, 7.489, 129, ['drama', 'crime', 'history'], 20.0, 88.346473],\n",
    "    [\"Birdman\", 2014, 7.604, 119, ['drama', 'comedy'], 18.0, 103.215094],\n",
    "    [\"12 Years a Slave\", 2013, 7.71, 133, ['drama', 'biography', 'history'], 20.0, 178.371993],\n",
    "    [\"Argo\", 2012, 7.517, 120, ['thriller', 'drama', 'biography'], 44.5, 232.324128],\n",
    "    [\"The Artist\", 2011, 7.942, 96, ['drama', 'melodrama', 'comedy'], 15.0, 133.432856],\n",
    "    [\"The King\\'s Speech\", 2010, 7.977, 118, ['drama', 'biography', 'history'], 15.0, 414.211549],\n",
    "    [\"The Hurt Locker\", 2009, 7.298, 126, ['thriller', 'drama', 'war', 'history'], 15.0, 49.230772],\n",
    "    [\"Slumdog Millionaire\", 2008, 7.724, 120, ['drama', 'melodrama'], 15.0, 377.910544],\n",
    "    [\"No Country for Old Men\", 2007, 7.726, 122, ['thriller', 'drama', 'crime'], 25.0, 171.627166],\n",
    "    [\"The Departed\", 2006, 8.456, 151, ['thriller', 'drama', 'crime'], 90.0, 289.847354],\n",
    "    [\"Crash\", 2004, 7.896, 108, ['thriller', 'drama', 'crime'], 6.5, 98.410061],\n",
    "    [\"Million Dollar Baby\", 2004, 8.075, 132, ['drama', 'sport'], 30.0, 216.763646],\n",
    "    [\"The Lord of the Rings: Return of the King\", 2003, 8.617, 201, ['fantasy', 'drama', 'adventure'], 94.0, 1119.110941],\n",
    "    [\"Chicago\", 2002, 7.669, 113, ['musical', 'comedy', 'crime'], 45.0, 306.776732],\n",
    "    ['A Beautiful Mind', 2001, 8.557, 135, ['drama', 'biography', 'melodrama'], 58.0, 313.542341],\n",
    "    [\"Gladiator\", 2000, 8.585, 155, ['action', 'drama', 'adventure'], 103.0, 457.640427],\n",
    "    [\"American Beauty\", 1999, 7.965, 122, ['drama'], 15.0, 356.296601],\n",
    "    [\"Shakespeare in Love\", 1998, 7.452, 123, ['drama', 'melodrama', 'comedy', 'history'], 25.0, 289.317794],\n",
    "    [\"Titanic\", 1997, 8.369, 194, ['drama', 'melodrama'], 200.0, 2185.372302],\n",
    "    [\"The English Patient\", 1996, 7.849, 155, ['drama', 'melodrama', 'war'], 27.0, 231.976425],\n",
    "    [\"Braveheart\", 1995, 8.283, 178, ['drama', 'war', 'biography', 'history'], 72.0, 210.409945],\n",
    "    [\"Forrest Gump\", 1994, 8.915, 142, ['drama', 'melodrama'], 55.0, 677.386686],\n",
    "    [\"Schindler\\'s List\", 1993, 8.819, 195, ['drama', 'biography', 'history'], 22.0, 321.265768],\n",
    "    [\"Unforgiven\", 1992, 7.858, 131, ['drama', 'western'], 14.4, 159.157447],\n",
    "    [\"Silence of the Lambs\", 1990, 8.335, 114, ['thriller', 'crime', 'mystery', 'drama', 'horror'], 19.0, 272.742922],\n",
    "    [\"Dances with Wolves\", 1990, 8.112, 181, ['drama', 'adventure', 'western'], 22.0, 424.208848],\n",
    "    [\"Driving Miss Daisy\", 1989, 7.645, 99, ['drama'], 7.5, 145.793296],\n",
    "    [\"Rain Man\", 1988, 8.25, 133, ['drama'], 25.0, 354.825435],\n",
    "]\n",
    "\n",
    "\n",
    "def column_sum(data, column):\n",
    "    result = 0\n",
    "    for row in data:\n",
    "        result += row[column]\n",
    "    return result\n",
    "\n",
    "#The other two variables—for\n",
    "# the total revenues and the amount spent per person of the population—can be given\n",
    "# any name you like.\n",
    "total_people = 7539\n",
    "total_gross = column_sum(oscar_data, 6)\n",
    "\n",
    "spent_per_person = total_gross / total_people\n",
    "print('Every person spent an average of ', end='')\n",
    "print('${:.2f} on Oscar-winning films.'.format(spent_per_person)) "
   ]
  },
  {
   "cell_type": "code",
   "execution_count": null,
   "metadata": {},
   "outputs": [],
   "source": []
  },
  {
   "cell_type": "markdown",
   "metadata": {},
   "source": [
    "##### Task 3"
   ]
  },
  {
   "cell_type": "markdown",
   "metadata": {},
   "source": [
    "The function `print_mean()` that you wrote in the previous lesson calculates an average value and prints it on the screen. Change this function so that instead of printing the average it returns the average.\n",
    "In order to calculate the sum, you won't need to form a loop; call the function `column_sum()` instead. Recycling code is good for the planet."
   ]
  },
  {
   "cell_type": "code",
   "execution_count": 15,
   "metadata": {},
   "outputs": [
    {
     "name": "stdout",
     "output_type": "stream",
     "text": [
      "Average rating: 7.93\n",
      "Average length: 135.93 min.\n",
      "Average budget: $37.96 mil.\n",
      "Average revenue: $347.99 mil.\n"
     ]
    }
   ],
   "source": [
    "# columns are [0]title [1]year [2]rating [3]length(min) [4]genre [5]budget($mil) [6]box_office_gross($mil)\n",
    "oscar_data = [\n",
    "    [\"The Shape of Water\", 2017, 6.914, 123, ['sci-fi', 'drama'], 19.4, 195.243464],\n",
    "    [\"Moonlight\", 2016, 6.151, 110, ['drama'], 1.5, 65.046687],\n",
    "    [\"Spotlight\", 2015, 7.489, 129, ['drama', 'crime', 'history'], 20.0, 88.346473],\n",
    "    [\"Birdman\", 2014, 7.604, 119, ['drama', 'comedy'], 18.0, 103.215094],\n",
    "    [\"12 Years a Slave\", 2013, 7.71, 133, ['drama', 'biography', 'history'], 20.0, 178.371993],\n",
    "    [\"Argo\", 2012, 7.517, 120, ['thriller', 'drama', 'biography'], 44.5, 232.324128],\n",
    "    [\"The Artist\", 2011, 7.942, 96, ['drama', 'melodrama', 'comedy'], 15.0, 133.432856],\n",
    "    [\"The King\\'s Speech\", 2010, 7.977, 118, ['drama', 'biography', 'history'], 15.0, 414.211549],\n",
    "    [\"The Hurt Locker\", 2009, 7.298, 126, ['thriller', 'drama', 'war', 'history'], 15.0, 49.230772],\n",
    "    [\"Slumdog Millionaire\", 2008, 7.724, 120, ['drama', 'melodrama'], 15.0, 377.910544],\n",
    "    [\"No Country for Old Men\", 2007, 7.726, 122, ['thriller', 'drama', 'crime'], 25.0, 171.627166],\n",
    "    [\"The Departed\", 2006, 8.456, 151, ['thriller', 'drama', 'crime'], 90.0, 289.847354],\n",
    "    [\"Crash\", 2004, 7.896, 108, ['thriller', 'drama', 'crime'], 6.5, 98.410061],\n",
    "    [\"Million Dollar Baby\", 2004, 8.075, 132, ['drama', 'sport'], 30.0, 216.763646],\n",
    "    [\"The Lord of the Rings: Return of the King\", 2003, 8.617, 201, ['fantasy', 'drama', 'adventure'], 94.0, 1119.110941],\n",
    "    [\"Chicago\", 2002, 7.669, 113, ['musical', 'comedy', 'crime'], 45.0, 306.776732],\n",
    "    ['A Beautiful Mind', 2001, 8.557, 135, ['drama', 'biography', 'melodrama'], 58.0, 313.542341],\n",
    "    [\"Gladiator\", 2000, 8.585, 155, ['action', 'drama', 'adventure'], 103.0, 457.640427],\n",
    "    [\"American Beauty\", 1999, 7.965, 122, ['drama'], 15.0, 356.296601],\n",
    "    [\"Shakespeare in Love\", 1998, 7.452, 123, ['drama', 'melodrama', 'comedy', 'history'], 25.0, 289.317794],\n",
    "    [\"Titanic\", 1997, 8.369, 194, ['drama', 'melodrama'], 200.0, 2185.372302],\n",
    "    [\"The English Patient\", 1996, 7.849, 155, ['drama', 'melodrama', 'war'], 27.0, 231.976425],\n",
    "    [\"Braveheart\", 1995, 8.283, 178, ['drama', 'war', 'biography', 'history'], 72.0, 210.409945],\n",
    "    [\"Forrest Gump\", 1994, 8.915, 142, ['drama', 'melodrama'], 55.0, 677.386686],\n",
    "    [\"Schindler\\'s List\", 1993, 8.819, 195, ['drama', 'biography', 'history'], 22.0, 321.265768],\n",
    "    [\"Unforgiven\", 1992, 7.858, 131, ['drama', 'western'], 14.4, 159.157447],\n",
    "    [\"Silence of the Lambs\", 1990, 8.335, 114, ['thriller', 'crime', 'mystery', 'drama', 'horror'], 19.0, 272.742922],\n",
    "    [\"Dances with Wolves\", 1990, 8.112, 181, ['drama', 'adventure', 'western'], 22.0, 424.208848],\n",
    "    [\"Driving Miss Daisy\", 1989, 7.645, 99, ['drama'], 7.5, 145.793296],\n",
    "    [\"Rain Man\", 1988, 8.25, 133, ['drama'], 25.0, 354.825435],\n",
    "]\n",
    "\n",
    "\n",
    "def column_sum(data, column):\n",
    "    result = 0\n",
    "    for row in data:\n",
    "        result += row[column]\n",
    "    return result\n",
    "\n",
    "def column_mean(data, column):\n",
    "    total = column_sum(data, column)\n",
    "    mean = total / len(data)\n",
    "    return mean\n",
    "    \n",
    "mean_score = column_mean(oscar_data, 2)\n",
    "print('Average rating: {:.2f}'.format(mean_score))\n",
    "\n",
    "mean_length = column_mean(oscar_data, 3)\n",
    "print('Average length: {:.2f} min.'.format(mean_length))\n",
    "\n",
    "mean_budget = column_mean(oscar_data, 5)\n",
    "print('Average budget: ${:.2f} mil.'.format(mean_budget))\n",
    "\n",
    "mean_gross = column_mean(oscar_data, 6)\n",
    "print('Average revenue: ${:.2f} mil.'.format(mean_gross))\n"
   ]
  },
  {
   "cell_type": "code",
   "execution_count": null,
   "metadata": {},
   "outputs": [],
   "source": []
  },
  {
   "cell_type": "markdown",
   "metadata": {},
   "source": [
    "### 5. Local and Global Variables"
   ]
  },
  {
   "cell_type": "markdown",
   "metadata": {},
   "source": [
    "##### Task"
   ]
  },
  {
   "cell_type": "markdown",
   "metadata": {},
   "source": [
    "Write the function `minutes_to_hours()`: its aim is to convert the length of films from minutes into hours. The function should accept a film's length in minutes as input and return it in hours. Assign the constant `MINUTES_IN_HOUR` the number of minutes in an hour."
   ]
  },
  {
   "cell_type": "code",
   "execution_count": 16,
   "metadata": {},
   "outputs": [
    {
     "name": "stdout",
     "output_type": "stream",
     "text": [
      "\"The Shape of Water\" length: 2.05 hrs.\n"
     ]
    }
   ],
   "source": [
    "# create the constant MINUTES_IN_HOUR\n",
    "MINUTES_IN_HOUR = 60 # this is a constant\n",
    "\n",
    "def minutes_to_hours(minutes):\n",
    "    hours = minutes / MINUTES_IN_HOUR # 'hours is a local variable'\n",
    "    return hours\n",
    "\n",
    "print('\"The Shape of Water\" length: {:.2f} hrs.'.format(minutes_to_hours(123)))"
   ]
  },
  {
   "cell_type": "code",
   "execution_count": null,
   "metadata": {},
   "outputs": [],
   "source": []
  },
  {
   "cell_type": "markdown",
   "metadata": {},
   "source": [
    "### 6. Functions as a Code-Organizing Tool"
   ]
  },
  {
   "cell_type": "markdown",
   "metadata": {},
   "source": [
    "##### Task"
   ]
  },
  {
   "cell_type": "markdown",
   "metadata": {},
   "source": [
    "The function should accept a single argument: the data table. This is the table that the function will then change.\n",
    "We have already written the code for printing output on the screen, complete it by including the following equation:\n",
    "COST_PER_MINUTE = BUDGET / LENGTH\n",
    "(Remember, the length is already in minutes.)"
   ]
  },
  {
   "cell_type": "code",
   "execution_count": 18,
   "metadata": {},
   "outputs": [
    {
     "name": "stdout",
     "output_type": "stream",
     "text": [
      "Title                            | Cost per minute, mil. $ |\n",
      "-------------------------------------------------------------\n",
      "Titanic                             |                  1.03 |\n",
      "Gladiator                           |                  0.66 |\n",
      "The Departed                        |                  0.60 |\n",
      "The Lord of the Rings: Return of the King |                  0.47 |\n",
      "A Beautiful Mind                    |                  0.43 |\n"
     ]
    }
   ],
   "source": [
    "# columns are [0]title [1]year [2]rating [3]length(min) [4]genre [5]budget($mil) [6]box_office_gross($mil)\n",
    "oscar_data = [\n",
    "    [\"The Shape of Water\", 2017, 6.914, 123, ['sci-fi', 'drama'], 19.4, 195.243464],\n",
    "    [\"Moonlight\", 2016, 6.151, 110, ['drama'], 1.5, 65.046687],\n",
    "    [\"Spotlight\", 2015, 7.489, 129, ['drama', 'crime', 'history'], 20.0, 88.346473],\n",
    "    [\"Birdman\", 2014, 7.604, 119, ['drama', 'comedy'], 18.0, 103.215094],\n",
    "    [\"12 Years a Slave\", 2013, 7.71, 133, ['drama', 'biography', 'history'], 20.0, 178.371993],\n",
    "    [\"Argo\", 2012, 7.517, 120, ['thriller', 'drama', 'biography'], 44.5, 232.324128],\n",
    "    [\"The Artist\", 2011, 7.942, 96, ['drama', 'melodrama', 'comedy'], 15.0, 133.432856],\n",
    "    [\"The King\\'s Speech\", 2010, 7.977, 118, ['drama', 'biography', 'history'], 15.0, 414.211549],\n",
    "    [\"The Hurt Locker\", 2009, 7.298, 126, ['thriller', 'drama', 'war', 'history'], 15.0, 49.230772],\n",
    "    [\"Slumdog Millionaire\", 2008, 7.724, 120, ['drama', 'melodrama'], 15.0, 377.910544],\n",
    "    [\"No Country for Old Men\", 2007, 7.726, 122, ['thriller', 'drama', 'crime'], 25.0, 171.627166],\n",
    "    [\"The Departed\", 2006, 8.456, 151, ['thriller', 'drama', 'crime'], 90.0, 289.847354],\n",
    "    [\"Crash\", 2004, 7.896, 108, ['thriller', 'drama', 'crime'], 6.5, 98.410061],\n",
    "    [\"Million Dollar Baby\", 2004, 8.075, 132, ['drama', 'sport'], 30.0, 216.763646],\n",
    "    [\"The Lord of the Rings: Return of the King\", 2003, 8.617, 201, ['fantasy', 'drama', 'adventure'], 94.0, 1119.110941],\n",
    "    [\"Chicago\", 2002, 7.669, 113, ['musical', 'comedy', 'crime'], 45.0, 306.776732],\n",
    "    ['A Beautiful Mind', 2001, 8.557, 135, ['drama', 'biography', 'melodrama'], 58.0, 313.542341],\n",
    "    [\"Gladiator\", 2000, 8.585, 155, ['action', 'drama', 'adventure'], 103.0, 457.640427],\n",
    "    [\"American Beauty\", 1999, 7.965, 122, ['drama'], 15.0, 356.296601],\n",
    "    [\"Shakespeare in Love\", 1998, 7.452, 123, ['drama', 'melodrama', 'comedy', 'history'], 25.0, 289.317794],\n",
    "    [\"Titanic\", 1997, 8.369, 194, ['drama', 'melodrama'], 200.0, 2185.372302],\n",
    "    [\"The English Patient\", 1996, 7.849, 155, ['drama', 'melodrama', 'war'], 27.0, 231.976425],\n",
    "    [\"Braveheart\", 1995, 8.283, 178, ['drama', 'war', 'biography', 'history'], 72.0, 210.409945],\n",
    "    [\"Forrest Gump\", 1994, 8.915, 142, ['drama', 'melodrama'], 55.0, 677.386686],\n",
    "    [\"Schindler\\'s List\", 1993, 8.819, 195, ['drama', 'biography', 'history'], 22.0, 321.265768],\n",
    "    [\"Unforgiven\", 1992, 7.858, 131, ['drama', 'western'], 14.4, 159.157447],\n",
    "    [\"Silence of the Lambs\", 1990, 8.335, 114, ['thriller', 'crime', 'mystery', 'drama', 'horror'], 19.0, 272.742922],\n",
    "    [\"Dances with Wolves\", 1990, 8.112, 181, ['drama', 'adventure', 'western'], 22.0, 424.208848],\n",
    "    [\"Driving Miss Daisy\", 1989, 7.645, 99, ['drama'], 7.5, 145.793296],\n",
    "    [\"Rain Man\", 1988, 8.25, 133, ['drama'], 25.0, 354.825435],\n",
    "]\n",
    "\n",
    "\n",
    "\n",
    "def add_cost_per_minute(data):\n",
    "    for i in range(len(data)):\n",
    "        length = data[i][3]\n",
    "        budget = data[i][5]\n",
    "        cost_per_minute = budget / length\n",
    "        data[i].append(cost_per_minute)\n",
    "\n",
    "add_cost_per_minute(oscar_data)\n",
    "\n",
    "# the new column's index is 7\n",
    "oscar_data.sort(key=lambda row: row[7], reverse=True)\n",
    "print('Title                            | Cost per minute, mil. $ |')\n",
    "print('-------------------------------------------------------------')\n",
    "for row in oscar_data[:5]:\n",
    "    print('{: <35} | {: >21.2f} |'.format(row[0], row[7]))\n"
   ]
  },
  {
   "cell_type": "code",
   "execution_count": null,
   "metadata": {},
   "outputs": [],
   "source": []
  },
  {
   "cell_type": "markdown",
   "metadata": {},
   "source": [
    "### 7. Conditional Statement"
   ]
  },
  {
   "cell_type": "markdown",
   "metadata": {},
   "source": [
    "##### Task\n",
    "Write a function `check_if_long()` to check whether or not a film is lengthy. We'll consider any film less than two hours to be short and everything else to be long.\n",
    "The function should accept the length of a film in minutes as input and then print either\n",
    "`Long film.`\n",
    "or\n",
    "`Short film.`\n",
    "on the screen."
   ]
  },
  {
   "cell_type": "code",
   "execution_count": 20,
   "metadata": {},
   "outputs": [
    {
     "name": "stdout",
     "output_type": "stream",
     "text": [
      "The Artist\n",
      "Short film.\n",
      "Gladiator\n",
      "Long film.\n"
     ]
    }
   ],
   "source": [
    "def check_if_long(length):\n",
    "    if length < 120:\n",
    "        print('Short film.')\n",
    "    else:\n",
    "        print('Long film.')\n",
    "        \n",
    "print('The Artist')\n",
    "check_if_long(96)\n",
    "print('Gladiator')\n",
    "check_if_long(155)"
   ]
  },
  {
   "cell_type": "code",
   "execution_count": null,
   "metadata": {},
   "outputs": [],
   "source": []
  },
  {
   "cell_type": "markdown",
   "metadata": {},
   "source": [
    "### 8. Filtering Tables"
   ]
  },
  {
   "cell_type": "markdown",
   "metadata": {},
   "source": [
    "##### Task 1.\n",
    "Filter the table, keeping films from the years 2000 and later, then sort it in descending order by box office gross and print the top 5 results."
   ]
  },
  {
   "cell_type": "code",
   "execution_count": 21,
   "metadata": {},
   "outputs": [
    {
     "name": "stdout",
     "output_type": "stream",
     "text": [
      "Title                            | Year  | Rating | Length | Budget | Box office gross  |\n",
      "--------------------------------------------------------------------------------\n",
      "The Lord of the Rings: Return of the King | 2003 |    8.62 |   201 |   94.0 | 1119.1 |\n",
      "Gladiator                           | 2000 |    8.59 |   155 |  103.0 |  457.6 |\n",
      "The King's Speech                   | 2010 |    7.98 |   118 |   15.0 |  414.2 |\n",
      "Slumdog Millionaire                 | 2008 |    7.72 |   120 |   15.0 |  377.9 |\n",
      "A Beautiful Mind                    | 2001 |    8.56 |   135 |   58.0 |  313.5 |\n"
     ]
    }
   ],
   "source": [
    "# columns are [0]title [1]year [2]rating [3]length(min) [4]genre [5]budget($mil) [6]box_office_gross($mil)\n",
    "oscar_data = [\n",
    "    [\"The Shape of Water\", 2017, 6.914, 123, ['sci-fi', 'drama'], 19.4, 195.243464],\n",
    "    [\"Moonlight\", 2016, 6.151, 110, ['drama'], 1.5, 65.046687],\n",
    "    [\"Spotlight\", 2015, 7.489, 129, ['drama', 'crime', 'history'], 20.0, 88.346473],\n",
    "    [\"Birdman\", 2014, 7.604, 119, ['drama', 'comedy'], 18.0, 103.215094],\n",
    "    [\"12 Years a Slave\", 2013, 7.71, 133, ['drama', 'biography', 'history'], 20.0, 178.371993],\n",
    "    [\"Argo\", 2012, 7.517, 120, ['thriller', 'drama', 'biography'], 44.5, 232.324128],\n",
    "    [\"The Artist\", 2011, 7.942, 96, ['drama', 'melodrama', 'comedy'], 15.0, 133.432856],\n",
    "    [\"The King\\'s Speech\", 2010, 7.977, 118, ['drama', 'biography', 'history'], 15.0, 414.211549],\n",
    "    [\"The Hurt Locker\", 2009, 7.298, 126, ['thriller', 'drama', 'war', 'history'], 15.0, 49.230772],\n",
    "    [\"Slumdog Millionaire\", 2008, 7.724, 120, ['drama', 'melodrama'], 15.0, 377.910544],\n",
    "    [\"No Country for Old Men\", 2007, 7.726, 122, ['thriller', 'drama', 'crime'], 25.0, 171.627166],\n",
    "    [\"The Departed\", 2006, 8.456, 151, ['thriller', 'drama', 'crime'], 90.0, 289.847354],\n",
    "    [\"Crash\", 2004, 7.896, 108, ['thriller', 'drama', 'crime'], 6.5, 98.410061],\n",
    "    [\"Million Dollar Baby\", 2004, 8.075, 132, ['drama', 'sport'], 30.0, 216.763646],\n",
    "    [\"The Lord of the Rings: Return of the King\", 2003, 8.617, 201, ['fantasy', 'drama', 'adventure'], 94.0, 1119.110941],\n",
    "    [\"Chicago\", 2002, 7.669, 113, ['musical', 'comedy', 'crime'], 45.0, 306.776732],\n",
    "    ['A Beautiful Mind', 2001, 8.557, 135, ['drama', 'biography', 'melodrama'], 58.0, 313.542341],\n",
    "    [\"Gladiator\", 2000, 8.585, 155, ['action', 'drama', 'adventure'], 103.0, 457.640427],\n",
    "    [\"American Beauty\", 1999, 7.965, 122, ['drama'], 15.0, 356.296601],\n",
    "    [\"Shakespeare in Love\", 1998, 7.452, 123, ['drama', 'melodrama', 'comedy', 'history'], 25.0, 289.317794],\n",
    "    [\"Titanic\", 1997, 8.369, 194, ['drama', 'melodrama'], 200.0, 2185.372302],\n",
    "    [\"The English Patient\", 1996, 7.849, 155, ['drama', 'melodrama', 'war'], 27.0, 231.976425],\n",
    "    [\"Braveheart\", 1995, 8.283, 178, ['drama', 'war', 'biography', 'history'], 72.0, 210.409945],\n",
    "    [\"Forrest Gump\", 1994, 8.915, 142, ['drama', 'melodrama'], 55.0, 677.386686],\n",
    "    [\"Schindler\\'s List\", 1993, 8.819, 195, ['drama', 'biography', 'history'], 22.0, 321.265768],\n",
    "    [\"Unforgiven\", 1992, 7.858, 131, ['drama', 'western'], 14.4, 159.157447],\n",
    "    [\"Silence of the Lambs\", 1990, 8.335, 114, ['thriller', 'crime', 'mystery', 'drama', 'horror'], 19.0, 272.742922],\n",
    "    [\"Dances with Wolves\", 1990, 8.112, 181, ['drama', 'adventure', 'western'], 22.0, 424.208848],\n",
    "    [\"Driving Miss Daisy\", 1989, 7.645, 99, ['drama'], 7.5, 145.793296],\n",
    "    [\"Rain Man\", 1988, 8.25, 133, ['drama'], 25.0, 354.825435],\n",
    "]\n",
    "\n",
    "def filter_after(data, year_threshold):\n",
    "    result = []\n",
    "    for row in data:\n",
    "        year = row[1]\n",
    "        if year >= year_threshold:\n",
    "            result.append(row)\n",
    "    return result\n",
    "\n",
    "def print_top5_by_column(data, column, reverse):\n",
    "    data.sort(key=lambda row: row[column], reverse=reverse)\n",
    "    print('Title                            | Year  | Rating | Length | Budget | Box office gross  |')\n",
    "    print('--------------------------------------------------------------------------------')\n",
    "    for row in data[:5]:\n",
    "        print('{: <35} | {} | {: >7.2f} | {: >5} | {: >6.1f} | {: >6.1f} |'.format(\n",
    "            row[0], row[1], row[2], row[3], row[5], row[6]))\n",
    "\n",
    "\n",
    "# Solution\n",
    "new_filter = filter_after(oscar_data, 2000)\n",
    "\n",
    "print_top5_by_column(new_filter, 6, True)"
   ]
  },
  {
   "cell_type": "code",
   "execution_count": null,
   "metadata": {},
   "outputs": [],
   "source": []
  },
  {
   "cell_type": "markdown",
   "metadata": {},
   "source": [
    "##### Task 2.\n",
    "Write a function that filters out films longer than a certain value.\n",
    "The function should have two input arguments: the table and the specified running time. It should return a new table, instead of changing the original.\n",
    "In the new table, you must only include films that are two hours or less and sort them by box office gross in descending order. Then print the top 5 elements of the returned table on the screen."
   ]
  },
  {
   "cell_type": "code",
   "execution_count": 22,
   "metadata": {},
   "outputs": [
    {
     "name": "stdout",
     "output_type": "stream",
     "text": [
      "Title                            | Year  | Rating | Length | Budget | Box office gross  |\n",
      "--------------------------------------------------------------------------------\n",
      "The King's Speech                   | 2010 |    7.98 |   118 |   15.0 |  414.2 |\n",
      "Slumdog Millionaire                 | 2008 |    7.72 |   120 |   15.0 |  377.9 |\n",
      "Chicago                             | 2002 |    7.67 |   113 |   45.0 |  306.8 |\n",
      "Silence of the Lambs                | 1990 |    8.34 |   114 |   19.0 |  272.7 |\n",
      "Argo                                | 2012 |    7.52 |   120 |   44.5 |  232.3 |\n"
     ]
    }
   ],
   "source": [
    "# columns are [0]title [1]year [2]rating [3]length(min) [4]genre [5]budget($mil) [6]box_office_gross($mil)\n",
    "oscar_data = [\n",
    "    [\"The Shape of Water\", 2017, 6.914, 123, ['sci-fi', 'drama'], 19.4, 195.243464],\n",
    "    [\"Moonlight\", 2016, 6.151, 110, ['drama'], 1.5, 65.046687],\n",
    "    [\"Spotlight\", 2015, 7.489, 129, ['drama', 'crime', 'history'], 20.0, 88.346473],\n",
    "    [\"Birdman\", 2014, 7.604, 119, ['drama', 'comedy'], 18.0, 103.215094],\n",
    "    [\"12 Years a Slave\", 2013, 7.71, 133, ['drama', 'biography', 'history'], 20.0, 178.371993],\n",
    "    [\"Argo\", 2012, 7.517, 120, ['thriller', 'drama', 'biography'], 44.5, 232.324128],\n",
    "    [\"The Artist\", 2011, 7.942, 96, ['drama', 'melodrama', 'comedy'], 15.0, 133.432856],\n",
    "    [\"The King\\'s Speech\", 2010, 7.977, 118, ['drama', 'biography', 'history'], 15.0, 414.211549],\n",
    "    [\"The Hurt Locker\", 2009, 7.298, 126, ['thriller', 'drama', 'war', 'history'], 15.0, 49.230772],\n",
    "    [\"Slumdog Millionaire\", 2008, 7.724, 120, ['drama', 'melodrama'], 15.0, 377.910544],\n",
    "    [\"No Country for Old Men\", 2007, 7.726, 122, ['thriller', 'drama', 'crime'], 25.0, 171.627166],\n",
    "    [\"The Departed\", 2006, 8.456, 151, ['thriller', 'drama', 'crime'], 90.0, 289.847354],\n",
    "    [\"Crash\", 2004, 7.896, 108, ['thriller', 'drama', 'crime'], 6.5, 98.410061],\n",
    "    [\"Million Dollar Baby\", 2004, 8.075, 132, ['drama', 'sport'], 30.0, 216.763646],\n",
    "    [\"The Lord of the Rings: Return of the King\", 2003, 8.617, 201, ['fantasy', 'drama', 'adventure'], 94.0, 1119.110941],\n",
    "    [\"Chicago\", 2002, 7.669, 113, ['musical', 'comedy', 'crime'], 45.0, 306.776732],\n",
    "    ['A Beautiful Mind', 2001, 8.557, 135, ['drama', 'biography', 'melodrama'], 58.0, 313.542341],\n",
    "    [\"Gladiator\", 2000, 8.585, 155, ['action', 'drama', 'adventure'], 103.0, 457.640427],\n",
    "    [\"American Beauty\", 1999, 7.965, 122, ['drama'], 15.0, 356.296601],\n",
    "    [\"Shakespeare in Love\", 1998, 7.452, 123, ['drama', 'melodrama', 'comedy', 'history'], 25.0, 289.317794],\n",
    "    [\"Titanic\", 1997, 8.369, 194, ['drama', 'melodrama'], 200.0, 2185.372302],\n",
    "    [\"The English Patient\", 1996, 7.849, 155, ['drama', 'melodrama', 'war'], 27.0, 231.976425],\n",
    "    [\"Braveheart\", 1995, 8.283, 178, ['drama', 'war', 'biography', 'history'], 72.0, 210.409945],\n",
    "    [\"Forrest Gump\", 1994, 8.915, 142, ['drama', 'melodrama'], 55.0, 677.386686],\n",
    "    [\"Schindler\\'s List\", 1993, 8.819, 195, ['drama', 'biography', 'history'], 22.0, 321.265768],\n",
    "    [\"Unforgiven\", 1992, 7.858, 131, ['drama', 'western'], 14.4, 159.157447],\n",
    "    [\"Silence of the Lambs\", 1990, 8.335, 114, ['thriller', 'crime', 'mystery', 'drama', 'horror'], 19.0, 272.742922],\n",
    "    [\"Dances with Wolves\", 1990, 8.112, 181, ['drama', 'adventure', 'western'], 22.0, 424.208848],\n",
    "    [\"Driving Miss Daisy\", 1989, 7.645, 99, ['drama'], 7.5, 145.793296],\n",
    "    [\"Rain Man\", 1988, 8.25, 133, ['drama'], 25.0, 354.825435],\n",
    "]\n",
    "\n",
    "\n",
    "def filter_not_longer_than(data, length_threshold):\n",
    "    # create a table as a list of list that is currently empty\n",
    "    result = []\n",
    "    for row in data:\n",
    "        length = row[3]\n",
    "        if length <= length_threshold:\n",
    "            result.append(row)\n",
    "    return result\n",
    "         \n",
    "def print_top5_by_column(data, column, reverse):\n",
    "    data.sort(key=lambda row: row[column], reverse=reverse)\n",
    "    print('Title                            | Year  | Rating | Length | Budget | Box office gross  |')\n",
    "    print('--------------------------------------------------------------------------------')\n",
    "    for row in data[:5]:\n",
    "        print('{: <35} | {} | {: >7.2f} | {: >5} | {: >6.1f} | {: >6.1f} |'.format(\n",
    "            row[0], row[1], row[2], row[3], row[5], row[6]))\n",
    "\n",
    "film_two_hours_or_less = filter_not_longer_than(oscar_data, 120)\n",
    "        \n",
    "print_top5_by_column(film_two_hours_or_less, 6, True)"
   ]
  },
  {
   "cell_type": "code",
   "execution_count": null,
   "metadata": {},
   "outputs": [],
   "source": []
  },
  {
   "cell_type": "markdown",
   "metadata": {},
   "source": [
    "### 9. The 'in' Operator"
   ]
  },
  {
   "cell_type": "markdown",
   "metadata": {},
   "source": [
    "##### Task 1.\n",
    "Let's filter the table by genre. To do so, write the function `filter_by_genre()`. It should include two arguments: `data` (you'll specify `oscar_data` when you call the function) and `genre` (the genre you want to filter by). It should return a completely new table that includes the films from the genre that you specify. Remember that the function is universal, and the arguments you use when defining it are abstract. When you call the function, you enter particular arguments relevant to your data: the name of the table you want this function to process and the genre you want to filter by.\n",
    "\n",
    "Once you have defined the function, call it with `\"melodrama\"` as the second argument."
   ]
  },
  {
   "cell_type": "code",
   "execution_count": 23,
   "metadata": {},
   "outputs": [
    {
     "name": "stdout",
     "output_type": "stream",
     "text": [
      "Title                            | Year  | Rating | Length | Budget | Box office gross  |\n",
      "--------------------------------------------------------------------------------\n",
      "The Artist                          | 2011 |    7.94 |    96 |   15.0 |  133.4 |\n",
      "Slumdog Millionaire                 | 2008 |    7.72 |   120 |   15.0 |  377.9 |\n",
      "A Beautiful Mind                    | 2001 |    8.56 |   135 |   58.0 |  313.5 |\n",
      "Shakespeare in Love                 | 1998 |    7.45 |   123 |   25.0 |  289.3 |\n",
      "Titanic                             | 1997 |    8.37 |   194 |  200.0 | 2185.4 |\n",
      "The English Patient                 | 1996 |    7.85 |   155 |   27.0 |  232.0 |\n",
      "Forrest Gump                        | 1994 |    8.91 |   142 |   55.0 |  677.4 |\n"
     ]
    }
   ],
   "source": [
    "# columns are [0]title [1]year [2]rating [3]length(min) [4]genre [5]budget($mil) [6]box_office_gross($mil)\n",
    "oscar_data = [\n",
    "    [\"The Shape of Water\", 2017, 6.914, 123, ['sci-fi', 'drama'], 19.4, 195.243464],\n",
    "    [\"Moonlight\", 2016, 6.151, 110, ['drama'], 1.5, 65.046687],\n",
    "    [\"Spotlight\", 2015, 7.489, 129, ['drama', 'crime', 'history'], 20.0, 88.346473],\n",
    "    [\"Birdman\", 2014, 7.604, 119, ['drama', 'comedy'], 18.0, 103.215094],\n",
    "    [\"12 Years a Slave\", 2013, 7.71, 133, ['drama', 'biography', 'history'], 20.0, 178.371993],\n",
    "    [\"Argo\", 2012, 7.517, 120, ['thriller', 'drama', 'biography'], 44.5, 232.324128],\n",
    "    [\"The Artist\", 2011, 7.942, 96, ['drama', 'melodrama', 'comedy'], 15.0, 133.432856],\n",
    "    [\"The King\\'s Speech\", 2010, 7.977, 118, ['drama', 'biography', 'history'], 15.0, 414.211549],\n",
    "    [\"The Hurt Locker\", 2009, 7.298, 126, ['thriller', 'drama', 'war', 'history'], 15.0, 49.230772],\n",
    "    [\"Slumdog Millionaire\", 2008, 7.724, 120, ['drama', 'melodrama'], 15.0, 377.910544],\n",
    "    [\"No Country for Old Men\", 2007, 7.726, 122, ['thriller', 'drama', 'crime'], 25.0, 171.627166],\n",
    "    [\"The Departed\", 2006, 8.456, 151, ['thriller', 'drama', 'crime'], 90.0, 289.847354],\n",
    "    [\"Crash\", 2004, 7.896, 108, ['thriller', 'drama', 'crime'], 6.5, 98.410061],\n",
    "    [\"Million Dollar Baby\", 2004, 8.075, 132, ['drama', 'sport'], 30.0, 216.763646],\n",
    "    [\"The Lord of the Rings: Return of the King\", 2003, 8.617, 201, ['fantasy', 'drama', 'adventure'], 94.0, 1119.110941],\n",
    "    [\"Chicago\", 2002, 7.669, 113, ['musical', 'comedy', 'crime'], 45.0, 306.776732],\n",
    "    ['A Beautiful Mind', 2001, 8.557, 135, ['drama', 'biography', 'melodrama'], 58.0, 313.542341],\n",
    "    [\"Gladiator\", 2000, 8.585, 155, ['action', 'drama', 'adventure'], 103.0, 457.640427],\n",
    "    [\"American Beauty\", 1999, 7.965, 122, ['drama'], 15.0, 356.296601],\n",
    "    [\"Shakespeare in Love\", 1998, 7.452, 123, ['drama', 'melodrama', 'comedy', 'history'], 25.0, 289.317794],\n",
    "    [\"Titanic\", 1997, 8.369, 194, ['drama', 'melodrama'], 200.0, 2185.372302],\n",
    "    [\"The English Patient\", 1996, 7.849, 155, ['drama', 'melodrama', 'war'], 27.0, 231.976425],\n",
    "    [\"Braveheart\", 1995, 8.283, 178, ['drama', 'war', 'biography', 'history'], 72.0, 210.409945],\n",
    "    [\"Forrest Gump\", 1994, 8.915, 142, ['drama', 'melodrama'], 55.0, 677.386686],\n",
    "    [\"Schindler\\'s List\", 1993, 8.819, 195, ['drama', 'biography', 'history'], 22.0, 321.265768],\n",
    "    [\"Unforgiven\", 1992, 7.858, 131, ['drama', 'western'], 14.4, 159.157447],\n",
    "    [\"Silence of the Lambs\", 1990, 8.335, 114, ['thriller', 'crime', 'mystery', 'drama', 'horror'], 19.0, 272.742922],\n",
    "    [\"Dances with Wolves\", 1990, 8.112, 181, ['drama', 'adventure', 'western'], 22.0, 424.208848],\n",
    "    [\"Driving Miss Daisy\", 1989, 7.645, 99, ['drama'], 7.5, 145.793296],\n",
    "    [\"Rain Man\", 1988, 8.25, 133, ['drama'], 25.0, 354.825435],\n",
    "]\n",
    "\n",
    "def filter_by_genre(data, genre):\n",
    "    result = []\n",
    "    for row in data:\n",
    "        genres = row[4]\n",
    "        if genre in genres:\n",
    "            result.append(row)\n",
    "    return result    \n",
    "\n",
    "def print_table(data):\n",
    "    print('Title                            | Year  | Rating | Length | Budget | Box office gross  |')\n",
    "    print('--------------------------------------------------------------------------------')\n",
    "    for row in data:\n",
    "        print('{: <35} | {} | {: >7.2f} | {: >5} | {: >6.1f} | {: >6.1f} |'.format(\n",
    "            row[0], row[1], row[2], row[3], row[5], row[6]))\n",
    "\n",
    "\n",
    "filtered_data = filter_by_genre(oscar_data, 'melodrama')\n",
    "\n",
    "print_table(filtered_data)"
   ]
  },
  {
   "cell_type": "code",
   "execution_count": null,
   "metadata": {},
   "outputs": [],
   "source": []
  },
  {
   "cell_type": "markdown",
   "metadata": {},
   "source": [
    "##### Task 2.\n",
    "Some genres are more common than others. Let's try to find the most popular ones.\n",
    "\n",
    "You'll create an empty table, saving it in the variable `genres_counts`. Then you will fill it with data using a loop. It will have columns containing genre names and corresponding numbers of films.\n",
    "\n",
    "We've collected all the genres in the variable `all_genres`. Loop through every genre, using our `filter_by_genre` function from the previous task to find the number of films in each genre and adding this information to the table. To do so, call the `filter_by_genre` function in the parentheses of `len()`. Save the result in the variable `count` (already in the precode).\n",
    "\n",
    "First fill in the table with data, then sort the `number` column in descending order."
   ]
  },
  {
   "cell_type": "code",
   "execution_count": 1,
   "metadata": {},
   "outputs": [
    {
     "name": "stdout",
     "output_type": "stream",
     "text": [
      "Genre        | Number\n",
      "------------------------\n",
      "drama       |         29\n",
      "history     |          7\n",
      "melodrama   |          7\n",
      "crime       |          6\n",
      "biography   |          6\n",
      "thriller    |          6\n",
      "comedy      |          4\n",
      "war         |          3\n",
      "adventure   |          3\n",
      "western     |          2\n",
      "sci-fi      |          1\n",
      "action      |          1\n",
      "mystery     |          1\n",
      "horror      |          1\n"
     ]
    }
   ],
   "source": [
    "# columns are [0]title [1]year [2]rating [3]length(min) [4]genre [5]budget($mil) [6]box_office_gross($mil)\n",
    "oscar_data = [\n",
    "    [\"The Shape of Water\", 2017, 6.914, 123, ['sci-fi', 'drama'], 19.4, 195.243464],\n",
    "    [\"Moonlight\", 2016, 6.151, 110, ['drama'], 1.5, 65.046687],\n",
    "    [\"Spotlight\", 2015, 7.489, 129, ['drama', 'crime', 'history'], 20.0, 88.346473],\n",
    "    [\"Birdman\", 2014, 7.604, 119, ['drama', 'comedy'], 18.0, 103.215094],\n",
    "    [\"12 Years a Slave\", 2013, 7.71, 133, ['drama', 'biography', 'history'], 20.0, 178.371993],\n",
    "    [\"Argo\", 2012, 7.517, 120, ['thriller', 'drama', 'biography'], 44.5, 232.324128],\n",
    "    [\"The Artist\", 2011, 7.942, 96, ['drama', 'melodrama', 'comedy'], 15.0, 133.432856],\n",
    "    [\"The King\\'s Speech\", 2010, 7.977, 118, ['drama', 'biography', 'history'], 15.0, 414.211549],\n",
    "    [\"The Hurt Locker\", 2009, 7.298, 126, ['thriller', 'drama', 'war', 'history'], 15.0, 49.230772],\n",
    "    [\"Slumdog Millionaire\", 2008, 7.724, 120, ['drama', 'melodrama'], 15.0, 377.910544],\n",
    "    [\"No Country for Old Men\", 2007, 7.726, 122, ['thriller', 'drama', 'crime'], 25.0, 171.627166],\n",
    "    [\"The Departed\", 2006, 8.456, 151, ['thriller', 'drama', 'crime'], 90.0, 289.847354],\n",
    "    [\"Crash\", 2004, 7.896, 108, ['thriller', 'drama', 'crime'], 6.5, 98.410061],\n",
    "    [\"Million Dollar Baby\", 2004, 8.075, 132, ['drama', 'sport'], 30.0, 216.763646],\n",
    "    [\"The Lord of the Rings: Return of the King\", 2003, 8.617, 201, ['fantasy', 'drama', 'adventure'], 94.0, 1119.110941],\n",
    "    [\"Chicago\", 2002, 7.669, 113, ['musical', 'comedy', 'crime'], 45.0, 306.776732],\n",
    "    ['A Beautiful Mind', 2001, 8.557, 135, ['drama', 'biography', 'melodrama'], 58.0, 313.542341],\n",
    "    [\"Gladiator\", 2000, 8.585, 155, ['action', 'drama', 'adventure'], 103.0, 457.640427],\n",
    "    [\"American Beauty\", 1999, 7.965, 122, ['drama'], 15.0, 356.296601],\n",
    "    [\"Shakespeare in Love\", 1998, 7.452, 123, ['drama', 'melodrama', 'comedy', 'history'], 25.0, 289.317794],\n",
    "    [\"Titanic\", 1997, 8.369, 194, ['drama', 'melodrama'], 200.0, 2185.372302],\n",
    "    [\"The English Patient\", 1996, 7.849, 155, ['drama', 'melodrama', 'war'], 27.0, 231.976425],\n",
    "    [\"Braveheart\", 1995, 8.283, 178, ['drama', 'war', 'biography', 'history'], 72.0, 210.409945],\n",
    "    [\"Forrest Gump\", 1994, 8.915, 142, ['drama', 'melodrama'], 55.0, 677.386686],\n",
    "    [\"Schindler\\'s List\", 1993, 8.819, 195, ['drama', 'biography', 'history'], 22.0, 321.265768],\n",
    "    [\"Unforgiven\", 1992, 7.858, 131, ['drama', 'western'], 14.4, 159.157447],\n",
    "    [\"Silence of the Lambs\", 1990, 8.335, 114, ['thriller', 'crime', 'mystery', 'drama', 'horror'], 19.0, 272.742922],\n",
    "    [\"Dances with Wolves\", 1990, 8.112, 181, ['drama', 'adventure', 'western'], 22.0, 424.208848],\n",
    "    [\"Driving Miss Daisy\", 1989, 7.645, 99, ['drama'], 7.5, 145.793296],\n",
    "    [\"Rain Man\", 1988, 8.25, 133, ['drama'], 25.0, 354.825435],\n",
    "]\n",
    "\n",
    "\n",
    "def filter_by_genre(data, genre):\n",
    "    result = []\n",
    "    for row in data:\n",
    "        genres = row[4]\n",
    "        if genre in genres:\n",
    "            result.append(row)\n",
    "    return result\n",
    "\n",
    "\n",
    "all_genres = [\n",
    "    'sci-fi', 'drama', 'crime', 'history', 'comedy', 'biography',\n",
    "    'thriller', 'war', 'melodrama', 'action', 'adventure', 'western',\n",
    "    'mystery', 'horror'\n",
    "]\n",
    "\n",
    "genres_counts = []\n",
    "for genre in all_genres:\n",
    "    # call the function filter_by genre and use len()\n",
    "    count = len(filter_by_genre(oscar_data, genre))     # finds the length of new tables devoted to different genres\n",
    "    # use append() to add the genre name and results to the genres_counts table\n",
    "    genres_counts.append([genre, count])\n",
    "\n",
    "\n",
    "# use sort() to sort the table in descending order\n",
    "genres_counts.sort(key=lambda row: row[1], reverse = True)\n",
    "print('Genre        | Number')\n",
    "print('------------------------')\n",
    "for row in genres_counts:\n",
    "    genre = row[0]\n",
    "    count = row[1]\n",
    "    print('{: <11} | {: >10}'.format(genre, count))"
   ]
  },
  {
   "cell_type": "code",
   "execution_count": null,
   "metadata": {},
   "outputs": [],
   "source": []
  }
 ],
 "metadata": {
  "kernelspec": {
   "display_name": "Python 3",
   "language": "python",
   "name": "python3"
  },
  "language_info": {
   "codemirror_mode": {
    "name": "ipython",
    "version": 3
   },
   "file_extension": ".py",
   "mimetype": "text/x-python",
   "name": "python",
   "nbconvert_exporter": "python",
   "pygments_lexer": "ipython3",
   "version": "3.8.5"
  }
 },
 "nbformat": 4,
 "nbformat_minor": 4
}
